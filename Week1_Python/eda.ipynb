{
 "cells": [
  {
   "cell_type": "markdown",
   "id": "06ad506b",
   "metadata": {},
   "source": [
    "\"r\" - Read (default)\n",
    "\"w\" - Write (creates new file / overwrites existing)\n",
    "\"a\" - Append (add to the end)\n",
    "\"r+\" - Read and write\n",
    "\"rb\" / \"wb\" - Binary read/write"
   ]
  },
  {
   "cell_type": "code",
   "execution_count": null,
   "id": "da5180bc",
   "metadata": {},
   "outputs": [],
   "source": [
    "#Opening files\n",
    "file = open(\"example.txt\", \"mode\")\n",
    "\n",
    "#Example\n",
    "f = open(\"notes.txt\", \"w\") \n",
    "f.write(\"Hello Python!\\n\")\n",
    "f.close()"
   ]
  },
  {
   "cell_type": "code",
   "execution_count": null,
   "id": "83e92882",
   "metadata": {},
   "outputs": [],
   "source": [
    "#The 'with' Statement (Best Practice)\n",
    "\n",
    "with open(\"notes.txt\", \"w\") as f:\n",
    "    f.write(\"Python is fun!\\n\")\n",
    "# no need to call f.close()"
   ]
  },
  {
   "cell_type": "code",
   "execution_count": null,
   "id": "5c15358a",
   "metadata": {},
   "outputs": [],
   "source": [
    "#Reading Files\n",
    "\n",
    "#Read Entire File\n",
    "with open(\"notes.txt\", \"r\") as f:\n",
    "    content = f.read()\n",
    "print(content)\n",
    "\n",
    "#Read Line by Line\n",
    "with open(\"notes.txt\", \"r\") as f:\n",
    "    for line in f:\n",
    "        print(line.strip())  # remove newline characters\n",
    "\n",
    "#Readlines\n",
    "with open(\"notes.txt\", \"r\") as f:\n",
    "    lines = f.readlines()  # returns list of lines"
   ]
  },
  {
   "cell_type": "code",
   "execution_count": null,
   "id": "c067078f",
   "metadata": {},
   "outputs": [],
   "source": [
    "#Writing files\n",
    "\n",
    "#Write Mode (\"w\") (Overwrites existing content)\n",
    "with open('employee_file.csv', mode='w') as employee_file:\n",
    "    employee_writer = csv.writer(employee_file, delimiter=',', quotechar='\"', quoting=csv.QUOTE_MINIMAL)\n",
    "\n",
    "    employee_writer.writerow(['John Smith', 'Accounting', 'November'])\n",
    "    employee_writer.writerow(['Erica Meyers', 'IT', 'March'])\n",
    "\n",
    "#Append Mode (\"a\") (Adds to the end of the file)\n",
    "with open(\"notes.txt\", \"a\") as f:\n",
    "    f.write(\"Line 3\\n\")"
   ]
  },
  {
   "cell_type": "markdown",
   "id": "e4e62f22",
   "metadata": {},
   "source": [
    "//Example\n",
    "CSV file: \n",
    "\n",
    "name,department,birthday month\n",
    "John Smith,Accounting,November\n",
    "Erica Meyers,IT,March"
   ]
  },
  {
   "cell_type": "code",
   "execution_count": null,
   "id": "9c420928",
   "metadata": {},
   "outputs": [],
   "source": [
    "#Reading CSV files\n",
    "\n",
    "import csv\n",
    "\n",
    "with open('employee_birthday.csv', \"w\") as csv_file:\n",
    "    csv_reader = csv.reader(csv_file, delimiter=',')\n",
    "    line_count = 0\n",
    "    for row in csv_reader:\n",
    "        if line_count == 0:\n",
    "            print(f'Column names are {\",\".join(row)}')\n",
    "            line_count += 1\n",
    "        else:\n",
    "            print(f'\\t{row[0]} works in the {row[1]} department, and was born in {row[2]}.')\n",
    "            line_count += 1\n",
    "    print(f'Processed {line_count} lines.')\n",
    "        \n"
   ]
  },
  {
   "cell_type": "code",
   "execution_count": null,
   "id": "ba4492d0",
   "metadata": {},
   "outputs": [],
   "source": [
    "#Reading CSV files into a dictionary with csv\n",
    "\n",
    "import csv\n",
    "\n",
    "with open('employee_birthay.csv', mode='r') as csv_file:\n",
    "    csv_reader = csv.DictReader(csv_file)\n",
    "    line_count = 0\n",
    "\n",
    "    for row in csv_reader:\n",
    "        if line_count == 0:\n",
    "            print(f'Column names are{\",\".join(row)}')\n",
    "            line_count += 1\n",
    "        print(f'\\{row[\"name\"]} works in the {row[\"department\"]}, department and was born in {row[\"birthday month\"]}')"
   ]
  }
 ],
 "metadata": {
  "kernelspec": {
   "display_name": "Python 3",
   "language": "python",
   "name": "python3"
  },
  "language_info": {
   "codemirror_mode": {
    "name": "ipython",
    "version": 3
   },
   "file_extension": ".py",
   "mimetype": "text/x-python",
   "name": "python",
   "nbconvert_exporter": "python",
   "pygments_lexer": "ipython3",
   "version": "3.13.0"
  }
 },
 "nbformat": 4,
 "nbformat_minor": 5
}
