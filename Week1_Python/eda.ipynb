{
 "cells": [
  {
   "cell_type": "markdown",
   "id": "bc44a912",
   "metadata": {},
   "source": [
    "My first program"
   ]
  },
  {
   "cell_type": "code",
   "execution_count": 6,
   "id": "0f7292e9",
   "metadata": {},
   "outputs": [
    {
     "name": "stdout",
     "output_type": "stream",
     "text": [
      "Hello, world!\n",
      "What's your name?\n",
      "Nice to meet you,gg\n",
      "The length of your name is: \n",
      "2\n",
      "How old are you?\n"
     ]
    },
    {
     "ename": "ValueError",
     "evalue": "invalid literal for int() with base 10: 'e'",
     "output_type": "error",
     "traceback": [
      "\u001b[31m---------------------------------------------------------------------------\u001b[39m",
      "\u001b[31mValueError\u001b[39m                                Traceback (most recent call last)",
      "\u001b[36mCell\u001b[39m\u001b[36m \u001b[39m\u001b[32mIn[6]\u001b[39m\u001b[32m, line 9\u001b[39m\n\u001b[32m      7\u001b[39m \u001b[38;5;28mprint\u001b[39m(\u001b[33m\"\u001b[39m\u001b[33mHow old are you?\u001b[39m\u001b[33m\"\u001b[39m)\n\u001b[32m      8\u001b[39m my_age = \u001b[38;5;28minput\u001b[39m(\u001b[33m\"\u001b[39m\u001b[33m>\u001b[39m\u001b[33m\"\u001b[39m)\n\u001b[32m----> \u001b[39m\u001b[32m9\u001b[39m \u001b[38;5;28mprint\u001b[39m(\u001b[33m\"\u001b[39m\u001b[33mYou will be \u001b[39m\u001b[33m\"\u001b[39m + \u001b[38;5;28mstr\u001b[39m(\u001b[38;5;28;43mint\u001b[39;49m\u001b[43m(\u001b[49m\u001b[43mmy_age\u001b[49m\u001b[43m)\u001b[49m + \u001b[32m1\u001b[39m) + \u001b[33m\"\u001b[39m\u001b[33m in a year\u001b[39m\u001b[33m\"\u001b[39m)\n",
      "\u001b[31mValueError\u001b[39m: invalid literal for int() with base 10: 'e'"
     ]
    }
   ],
   "source": [
    "print (\"Hello, world!\")\n",
    "print(\"What's your name?\")\n",
    "my_name = input(\">\")\n",
    "print(\"Nice to meet you,\" + my_name)\n",
    "print(\"The length of your name is: \")\n",
    "print(len(my_name))\n",
    "print(\"How old are you?\")\n",
    "my_age = input(\">\")\n",
    "print(\"You will be \" + str(int(my_age) + 1) + \" in a year\")"
   ]
  }
 ],
 "metadata": {
  "kernelspec": {
   "display_name": "Python 3",
   "language": "python",
   "name": "python3"
  },
  "language_info": {
   "codemirror_mode": {
    "name": "ipython",
    "version": 3
   },
   "file_extension": ".py",
   "mimetype": "text/x-python",
   "name": "python",
   "nbconvert_exporter": "python",
   "pygments_lexer": "ipython3",
   "version": "3.13.0"
  }
 },
 "nbformat": 4,
 "nbformat_minor": 5
}
